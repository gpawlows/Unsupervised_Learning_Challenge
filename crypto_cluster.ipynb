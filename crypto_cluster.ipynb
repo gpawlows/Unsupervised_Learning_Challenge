{
 "cells": [
  {
   "cell_type": "code",
   "execution_count": 1,
   "source": [
    "# Initial imports\r\n",
    "import pandas as pd\r\n",
    "from pathlib import Path"
   ],
   "outputs": [],
   "metadata": {}
  },
  {
   "cell_type": "code",
   "execution_count": 4,
   "source": [
    "#Data Loading\r\n",
    "file_path = Path(\"crypto_data.csv\")\r\n",
    "df_crypto = pd.read_csv(file_path)\r\n",
    "df_crypto.head()\r\n",
    "df_crypto.shape"
   ],
   "outputs": [
    {
     "output_type": "execute_result",
     "data": {
      "text/plain": [
       "(1252, 7)"
      ]
     },
     "metadata": {},
     "execution_count": 4
    }
   ],
   "metadata": {}
  },
  {
   "cell_type": "code",
   "execution_count": 12,
   "source": [
    "#Eliminate crypto currencies that don't trade\r\n",
    "df_crypto2 = df_crypto[df_crypto.IsTrading == True]\r\n",
    "df_crypto2.shape\r\n"
   ],
   "outputs": [
    {
     "output_type": "execute_result",
     "data": {
      "text/plain": [
       "(1144, 7)"
      ]
     },
     "metadata": {},
     "execution_count": 12
    }
   ],
   "metadata": {}
  },
  {
   "cell_type": "code",
   "execution_count": 17,
   "source": [
    "#drop the IsTrading column\r\n",
    "df_crypto3 = df_crypto2.drop(columns=[\"IsTrading\"])\r\n",
    "df_crypto3.shape\r\n"
   ],
   "outputs": [
    {
     "output_type": "execute_result",
     "data": {
      "text/plain": [
       "(1144, 6)"
      ]
     },
     "metadata": {},
     "execution_count": 17
    }
   ],
   "metadata": {}
  },
  {
   "cell_type": "code",
   "execution_count": 18,
   "source": [
    "#Drop any rows with null values\r\n",
    "df_crypto4 = df_crypto3.dropna()\r\n",
    "df_crypto4.shape"
   ],
   "outputs": [
    {
     "output_type": "execute_result",
     "data": {
      "text/plain": [
       "(685, 6)"
      ]
     },
     "metadata": {},
     "execution_count": 18
    }
   ],
   "metadata": {}
  },
  {
   "cell_type": "code",
   "execution_count": 41,
   "source": [
    "df_crypto4.head()\r\n",
    "df_crypto5 = df_crypto4.drop(columns=[\"CoinName\",\"Unnamed: 0\"])\r\n",
    "df_crypto5.shape\r\n",
    "df_crypto5.TotalCoinSupply = df_crypto5.TotalCoinSupply.astype(float)\r\n",
    "df_crypto5.dtypes\r\n"
   ],
   "outputs": [
    {
     "output_type": "execute_result",
     "data": {
      "text/plain": [
       "Algorithm           object\n",
       "ProofType           object\n",
       "TotalCoinsMined    float64\n",
       "TotalCoinSupply    float64\n",
       "dtype: object"
      ]
     },
     "metadata": {},
     "execution_count": 41
    }
   ],
   "metadata": {}
  },
  {
   "cell_type": "code",
   "execution_count": 43,
   "source": [
    "df_crypto6 = pd.get_dummies(df_crypto5)\r\n",
    "df_crypto6.shape"
   ],
   "outputs": [
    {
     "output_type": "execute_result",
     "data": {
      "text/plain": [
       "(685, 109)"
      ]
     },
     "metadata": {},
     "execution_count": 43
    }
   ],
   "metadata": {}
  },
  {
   "cell_type": "code",
   "execution_count": 47,
   "source": [
    "from sklearn.preprocessing import StandardScaler\r\n",
    "from sklearn.decomposition import PCA\r\n",
    "\r\n",
    "pca = PCA(n_components=.90)\r\n",
    "\r\n",
    "df_crypto6_scaled = StandardScaler().fit_transform(df_crypto6)\r\n",
    "\r\n",
    "crypto6_pca = pca.fit_transform(df_crypto6_scaled)\r\n",
    "\r\n",
    "df_crypto6_pca = pd.DataFrame(data=crypto6_pca)\r\n",
    "\r\n",
    "df_crypto6_pca.head()"
   ],
   "outputs": [
    {
     "output_type": "execute_result",
     "data": {
      "text/html": [
       "<div>\n",
       "<style scoped>\n",
       "    .dataframe tbody tr th:only-of-type {\n",
       "        vertical-align: middle;\n",
       "    }\n",
       "\n",
       "    .dataframe tbody tr th {\n",
       "        vertical-align: top;\n",
       "    }\n",
       "\n",
       "    .dataframe thead th {\n",
       "        text-align: right;\n",
       "    }\n",
       "</style>\n",
       "<table border=\"1\" class=\"dataframe\">\n",
       "  <thead>\n",
       "    <tr style=\"text-align: right;\">\n",
       "      <th></th>\n",
       "      <th>0</th>\n",
       "      <th>1</th>\n",
       "      <th>2</th>\n",
       "      <th>3</th>\n",
       "      <th>4</th>\n",
       "      <th>5</th>\n",
       "      <th>6</th>\n",
       "      <th>7</th>\n",
       "      <th>8</th>\n",
       "      <th>9</th>\n",
       "      <th>...</th>\n",
       "      <th>74</th>\n",
       "      <th>75</th>\n",
       "      <th>76</th>\n",
       "      <th>77</th>\n",
       "      <th>78</th>\n",
       "      <th>79</th>\n",
       "      <th>80</th>\n",
       "      <th>81</th>\n",
       "      <th>82</th>\n",
       "      <th>83</th>\n",
       "    </tr>\n",
       "  </thead>\n",
       "  <tbody>\n",
       "    <tr>\n",
       "      <th>0</th>\n",
       "      <td>-0.226931</td>\n",
       "      <td>1.233286</td>\n",
       "      <td>-0.494639</td>\n",
       "      <td>-3.074213e-07</td>\n",
       "      <td>1.111361e-10</td>\n",
       "      <td>1.362828e-10</td>\n",
       "      <td>7.070153e-11</td>\n",
       "      <td>2.733220e-11</td>\n",
       "      <td>0.015015</td>\n",
       "      <td>-1.108822</td>\n",
       "      <td>...</td>\n",
       "      <td>7.137502e-13</td>\n",
       "      <td>2.666098e-13</td>\n",
       "      <td>-9.603436e-13</td>\n",
       "      <td>-1.051734e-12</td>\n",
       "      <td>-9.352316e-13</td>\n",
       "      <td>6.989830e-13</td>\n",
       "      <td>5.253028e-13</td>\n",
       "      <td>-1.517264e-13</td>\n",
       "      <td>9.090928e-14</td>\n",
       "      <td>4.786488e-13</td>\n",
       "    </tr>\n",
       "    <tr>\n",
       "      <th>1</th>\n",
       "      <td>-0.212511</td>\n",
       "      <td>1.231877</td>\n",
       "      <td>-0.495250</td>\n",
       "      <td>-3.074213e-07</td>\n",
       "      <td>1.111362e-10</td>\n",
       "      <td>1.362830e-10</td>\n",
       "      <td>7.070161e-11</td>\n",
       "      <td>2.733194e-11</td>\n",
       "      <td>0.013635</td>\n",
       "      <td>-1.111887</td>\n",
       "      <td>...</td>\n",
       "      <td>7.085855e-13</td>\n",
       "      <td>2.668530e-13</td>\n",
       "      <td>-9.616340e-13</td>\n",
       "      <td>-1.052818e-12</td>\n",
       "      <td>-9.356647e-13</td>\n",
       "      <td>6.981974e-13</td>\n",
       "      <td>5.262277e-13</td>\n",
       "      <td>-1.512583e-13</td>\n",
       "      <td>9.239834e-14</td>\n",
       "      <td>4.787359e-13</td>\n",
       "    </tr>\n",
       "    <tr>\n",
       "      <th>2</th>\n",
       "      <td>-0.156502</td>\n",
       "      <td>0.820326</td>\n",
       "      <td>-0.304937</td>\n",
       "      <td>-2.267268e-07</td>\n",
       "      <td>8.196615e-11</td>\n",
       "      <td>1.005135e-10</td>\n",
       "      <td>5.214347e-11</td>\n",
       "      <td>2.015943e-11</td>\n",
       "      <td>-0.001711</td>\n",
       "      <td>-0.625905</td>\n",
       "      <td>...</td>\n",
       "      <td>1.086144e-14</td>\n",
       "      <td>2.218225e-15</td>\n",
       "      <td>-5.693527e-15</td>\n",
       "      <td>5.016119e-15</td>\n",
       "      <td>-2.141457e-15</td>\n",
       "      <td>-8.739871e-15</td>\n",
       "      <td>7.822825e-15</td>\n",
       "      <td>-1.055206e-14</td>\n",
       "      <td>5.375562e-15</td>\n",
       "      <td>-1.699440e-14</td>\n",
       "    </tr>\n",
       "    <tr>\n",
       "      <th>3</th>\n",
       "      <td>0.284201</td>\n",
       "      <td>1.971340</td>\n",
       "      <td>-0.537186</td>\n",
       "      <td>-4.518587e-07</td>\n",
       "      <td>1.633573e-10</td>\n",
       "      <td>2.003217e-10</td>\n",
       "      <td>1.039176e-10</td>\n",
       "      <td>4.018073e-11</td>\n",
       "      <td>-0.030183</td>\n",
       "      <td>-0.827578</td>\n",
       "      <td>...</td>\n",
       "      <td>2.209442e-14</td>\n",
       "      <td>2.231145e-14</td>\n",
       "      <td>2.366920e-14</td>\n",
       "      <td>5.173284e-14</td>\n",
       "      <td>-4.281358e-14</td>\n",
       "      <td>3.538389e-14</td>\n",
       "      <td>4.229595e-15</td>\n",
       "      <td>-5.306076e-14</td>\n",
       "      <td>8.923236e-14</td>\n",
       "      <td>-6.964809e-14</td>\n",
       "    </tr>\n",
       "    <tr>\n",
       "      <th>4</th>\n",
       "      <td>-0.208425</td>\n",
       "      <td>-1.471116</td>\n",
       "      <td>0.135380</td>\n",
       "      <td>1.813074e-07</td>\n",
       "      <td>-6.555056e-11</td>\n",
       "      <td>-8.038222e-11</td>\n",
       "      <td>-4.169925e-11</td>\n",
       "      <td>-1.612435e-11</td>\n",
       "      <td>-0.004237</td>\n",
       "      <td>0.064427</td>\n",
       "      <td>...</td>\n",
       "      <td>1.052016e-14</td>\n",
       "      <td>2.581547e-15</td>\n",
       "      <td>-3.894146e-15</td>\n",
       "      <td>8.305541e-15</td>\n",
       "      <td>-4.542721e-15</td>\n",
       "      <td>-6.895659e-15</td>\n",
       "      <td>7.620730e-15</td>\n",
       "      <td>-1.153235e-14</td>\n",
       "      <td>8.215103e-15</td>\n",
       "      <td>-1.764940e-14</td>\n",
       "    </tr>\n",
       "  </tbody>\n",
       "</table>\n",
       "<p>5 rows × 84 columns</p>\n",
       "</div>"
      ],
      "text/plain": [
       "         0         1         2             3             4             5   \\\n",
       "0 -0.226931  1.233286 -0.494639 -3.074213e-07  1.111361e-10  1.362828e-10   \n",
       "1 -0.212511  1.231877 -0.495250 -3.074213e-07  1.111362e-10  1.362830e-10   \n",
       "2 -0.156502  0.820326 -0.304937 -2.267268e-07  8.196615e-11  1.005135e-10   \n",
       "3  0.284201  1.971340 -0.537186 -4.518587e-07  1.633573e-10  2.003217e-10   \n",
       "4 -0.208425 -1.471116  0.135380  1.813074e-07 -6.555056e-11 -8.038222e-11   \n",
       "\n",
       "             6             7         8         9   ...            74  \\\n",
       "0  7.070153e-11  2.733220e-11  0.015015 -1.108822  ...  7.137502e-13   \n",
       "1  7.070161e-11  2.733194e-11  0.013635 -1.111887  ...  7.085855e-13   \n",
       "2  5.214347e-11  2.015943e-11 -0.001711 -0.625905  ...  1.086144e-14   \n",
       "3  1.039176e-10  4.018073e-11 -0.030183 -0.827578  ...  2.209442e-14   \n",
       "4 -4.169925e-11 -1.612435e-11 -0.004237  0.064427  ...  1.052016e-14   \n",
       "\n",
       "             75            76            77            78            79  \\\n",
       "0  2.666098e-13 -9.603436e-13 -1.051734e-12 -9.352316e-13  6.989830e-13   \n",
       "1  2.668530e-13 -9.616340e-13 -1.052818e-12 -9.356647e-13  6.981974e-13   \n",
       "2  2.218225e-15 -5.693527e-15  5.016119e-15 -2.141457e-15 -8.739871e-15   \n",
       "3  2.231145e-14  2.366920e-14  5.173284e-14 -4.281358e-14  3.538389e-14   \n",
       "4  2.581547e-15 -3.894146e-15  8.305541e-15 -4.542721e-15 -6.895659e-15   \n",
       "\n",
       "             80            81            82            83  \n",
       "0  5.253028e-13 -1.517264e-13  9.090928e-14  4.786488e-13  \n",
       "1  5.262277e-13 -1.512583e-13  9.239834e-14  4.787359e-13  \n",
       "2  7.822825e-15 -1.055206e-14  5.375562e-15 -1.699440e-14  \n",
       "3  4.229595e-15 -5.306076e-14  8.923236e-14 -6.964809e-14  \n",
       "4  7.620730e-15 -1.153235e-14  8.215103e-15 -1.764940e-14  \n",
       "\n",
       "[5 rows x 84 columns]"
      ]
     },
     "metadata": {},
     "execution_count": 47
    }
   ],
   "metadata": {}
  }
 ],
 "metadata": {
  "orig_nbformat": 4,
  "language_info": {
   "name": "python",
   "version": "3.6.10",
   "mimetype": "text/x-python",
   "codemirror_mode": {
    "name": "ipython",
    "version": 3
   },
   "pygments_lexer": "ipython3",
   "nbconvert_exporter": "python",
   "file_extension": ".py"
  },
  "kernelspec": {
   "name": "python3",
   "display_name": "Python 3.6.10 64-bit ('PythonData': conda)"
  },
  "interpreter": {
   "hash": "2f3a706b34eb0ea9bbb028628723f5cd93895146db5a4b3f252e9288b7f6741a"
  }
 },
 "nbformat": 4,
 "nbformat_minor": 2
}