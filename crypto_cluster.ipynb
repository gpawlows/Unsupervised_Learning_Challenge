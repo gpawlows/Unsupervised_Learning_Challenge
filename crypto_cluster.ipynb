{
 "cells": [
  {
   "cell_type": "code",
   "execution_count": 1,
   "source": [
    "# Initial imports\r\n",
    "import pandas as pd\r\n",
    "from pathlib import Path"
   ],
   "outputs": [],
   "metadata": {}
  },
  {
   "cell_type": "code",
   "execution_count": 4,
   "source": [
    "#Data Loading\r\n",
    "file_path = Path(\"crypto_data.csv\")\r\n",
    "df_crypto = pd.read_csv(file_path)\r\n",
    "df_crypto.head()\r\n",
    "df_crypto.shape"
   ],
   "outputs": [
    {
     "output_type": "execute_result",
     "data": {
      "text/plain": [
       "(1252, 7)"
      ]
     },
     "metadata": {},
     "execution_count": 4
    }
   ],
   "metadata": {}
  },
  {
   "cell_type": "code",
   "execution_count": 12,
   "source": [
    "#Eliminate crypto currencies that don't trade\r\n",
    "df_crypto2 = df_crypto[df_crypto.IsTrading == True]\r\n",
    "df_crypto2.shape\r\n"
   ],
   "outputs": [
    {
     "output_type": "execute_result",
     "data": {
      "text/plain": [
       "(1144, 7)"
      ]
     },
     "metadata": {},
     "execution_count": 12
    }
   ],
   "metadata": {}
  },
  {
   "cell_type": "code",
   "execution_count": 17,
   "source": [
    "#drop the IsTrading column\r\n",
    "df_crypto3 = df_crypto2.drop(columns=[\"IsTrading\"])\r\n",
    "df_crypto3.shape\r\n"
   ],
   "outputs": [
    {
     "output_type": "execute_result",
     "data": {
      "text/plain": [
       "(1144, 6)"
      ]
     },
     "metadata": {},
     "execution_count": 17
    }
   ],
   "metadata": {}
  },
  {
   "cell_type": "code",
   "execution_count": 18,
   "source": [
    "#Drop any rows with null values\r\n",
    "df_crypto4 = df_crypto3.dropna()\r\n",
    "df_crypto4.shape"
   ],
   "outputs": [
    {
     "output_type": "execute_result",
     "data": {
      "text/plain": [
       "(685, 6)"
      ]
     },
     "metadata": {},
     "execution_count": 18
    }
   ],
   "metadata": {}
  },
  {
   "cell_type": "code",
   "execution_count": 41,
   "source": [
    "#Drop the unneccesary columns\r\n",
    "df_crypto4.head()\r\n",
    "df_crypto5 = df_crypto4.drop(columns=[\"CoinName\",\"Unnamed: 0\"])\r\n",
    "df_crypto5.shape\r\n",
    "df_crypto5.TotalCoinSupply = df_crypto5.TotalCoinSupply.astype(float)\r\n",
    "df_crypto5.dtypes\r\n"
   ],
   "outputs": [
    {
     "output_type": "execute_result",
     "data": {
      "text/plain": [
       "Algorithm           object\n",
       "ProofType           object\n",
       "TotalCoinsMined    float64\n",
       "TotalCoinSupply    float64\n",
       "dtype: object"
      ]
     },
     "metadata": {},
     "execution_count": 41
    }
   ],
   "metadata": {}
  },
  {
   "cell_type": "code",
   "execution_count": 43,
   "source": [
    "# create dummy variables for categorized columns\r\n",
    "df_crypto6 = pd.get_dummies(df_crypto5)\r\n",
    "df_crypto6.shape"
   ],
   "outputs": [
    {
     "output_type": "execute_result",
     "data": {
      "text/plain": [
       "(685, 109)"
      ]
     },
     "metadata": {},
     "execution_count": 43
    }
   ],
   "metadata": {}
  },
  {
   "cell_type": "code",
   "execution_count": 48,
   "source": [
    "from sklearn.preprocessing import StandardScaler\r\n",
    "from sklearn.decomposition import PCA\r\n",
    "\r\n",
    "pca = PCA(n_components=.90)\r\n",
    "\r\n",
    "df_crypto6_scaled = StandardScaler().fit_transform(df_crypto6)\r\n",
    "\r\n",
    "crypto6_pca = pca.fit_transform(df_crypto6_scaled)\r\n",
    "\r\n",
    "df_crypto6_pca = pd.DataFrame(data=crypto6_pca)\r\n",
    "\r\n",
    "df_crypto6_pca\r\n"
   ],
   "outputs": [
    {
     "output_type": "execute_result",
     "data": {
      "text/html": [
       "<div>\n",
       "<style scoped>\n",
       "    .dataframe tbody tr th:only-of-type {\n",
       "        vertical-align: middle;\n",
       "    }\n",
       "\n",
       "    .dataframe tbody tr th {\n",
       "        vertical-align: top;\n",
       "    }\n",
       "\n",
       "    .dataframe thead th {\n",
       "        text-align: right;\n",
       "    }\n",
       "</style>\n",
       "<table border=\"1\" class=\"dataframe\">\n",
       "  <thead>\n",
       "    <tr style=\"text-align: right;\">\n",
       "      <th></th>\n",
       "      <th>0</th>\n",
       "      <th>1</th>\n",
       "      <th>2</th>\n",
       "      <th>3</th>\n",
       "      <th>4</th>\n",
       "      <th>5</th>\n",
       "      <th>6</th>\n",
       "      <th>7</th>\n",
       "      <th>8</th>\n",
       "      <th>9</th>\n",
       "      <th>...</th>\n",
       "      <th>74</th>\n",
       "      <th>75</th>\n",
       "      <th>76</th>\n",
       "      <th>77</th>\n",
       "      <th>78</th>\n",
       "      <th>79</th>\n",
       "      <th>80</th>\n",
       "      <th>81</th>\n",
       "      <th>82</th>\n",
       "      <th>83</th>\n",
       "    </tr>\n",
       "  </thead>\n",
       "  <tbody>\n",
       "    <tr>\n",
       "      <th>0</th>\n",
       "      <td>-0.226931</td>\n",
       "      <td>1.233286</td>\n",
       "      <td>-0.494639</td>\n",
       "      <td>-3.074213e-07</td>\n",
       "      <td>1.111361e-10</td>\n",
       "      <td>1.362828e-10</td>\n",
       "      <td>7.070153e-11</td>\n",
       "      <td>2.733220e-11</td>\n",
       "      <td>0.015015</td>\n",
       "      <td>-1.108822</td>\n",
       "      <td>...</td>\n",
       "      <td>7.137502e-13</td>\n",
       "      <td>2.666098e-13</td>\n",
       "      <td>-9.603436e-13</td>\n",
       "      <td>-1.051734e-12</td>\n",
       "      <td>-9.352316e-13</td>\n",
       "      <td>6.989830e-13</td>\n",
       "      <td>5.253028e-13</td>\n",
       "      <td>-1.517264e-13</td>\n",
       "      <td>9.090928e-14</td>\n",
       "      <td>4.786488e-13</td>\n",
       "    </tr>\n",
       "    <tr>\n",
       "      <th>1</th>\n",
       "      <td>-0.212511</td>\n",
       "      <td>1.231877</td>\n",
       "      <td>-0.495250</td>\n",
       "      <td>-3.074213e-07</td>\n",
       "      <td>1.111362e-10</td>\n",
       "      <td>1.362830e-10</td>\n",
       "      <td>7.070161e-11</td>\n",
       "      <td>2.733194e-11</td>\n",
       "      <td>0.013635</td>\n",
       "      <td>-1.111887</td>\n",
       "      <td>...</td>\n",
       "      <td>7.085855e-13</td>\n",
       "      <td>2.668530e-13</td>\n",
       "      <td>-9.616340e-13</td>\n",
       "      <td>-1.052818e-12</td>\n",
       "      <td>-9.356647e-13</td>\n",
       "      <td>6.981974e-13</td>\n",
       "      <td>5.262277e-13</td>\n",
       "      <td>-1.512583e-13</td>\n",
       "      <td>9.239834e-14</td>\n",
       "      <td>4.787359e-13</td>\n",
       "    </tr>\n",
       "    <tr>\n",
       "      <th>2</th>\n",
       "      <td>-0.156502</td>\n",
       "      <td>0.820326</td>\n",
       "      <td>-0.304937</td>\n",
       "      <td>-2.267268e-07</td>\n",
       "      <td>8.196615e-11</td>\n",
       "      <td>1.005135e-10</td>\n",
       "      <td>5.214347e-11</td>\n",
       "      <td>2.015943e-11</td>\n",
       "      <td>-0.001711</td>\n",
       "      <td>-0.625905</td>\n",
       "      <td>...</td>\n",
       "      <td>1.086144e-14</td>\n",
       "      <td>2.218225e-15</td>\n",
       "      <td>-5.693527e-15</td>\n",
       "      <td>5.016119e-15</td>\n",
       "      <td>-2.141457e-15</td>\n",
       "      <td>-8.739871e-15</td>\n",
       "      <td>7.822825e-15</td>\n",
       "      <td>-1.055206e-14</td>\n",
       "      <td>5.375562e-15</td>\n",
       "      <td>-1.699440e-14</td>\n",
       "    </tr>\n",
       "    <tr>\n",
       "      <th>3</th>\n",
       "      <td>0.284201</td>\n",
       "      <td>1.971340</td>\n",
       "      <td>-0.537186</td>\n",
       "      <td>-4.518587e-07</td>\n",
       "      <td>1.633573e-10</td>\n",
       "      <td>2.003217e-10</td>\n",
       "      <td>1.039176e-10</td>\n",
       "      <td>4.018073e-11</td>\n",
       "      <td>-0.030183</td>\n",
       "      <td>-0.827578</td>\n",
       "      <td>...</td>\n",
       "      <td>2.209442e-14</td>\n",
       "      <td>2.231145e-14</td>\n",
       "      <td>2.366920e-14</td>\n",
       "      <td>5.173284e-14</td>\n",
       "      <td>-4.281358e-14</td>\n",
       "      <td>3.538389e-14</td>\n",
       "      <td>4.229595e-15</td>\n",
       "      <td>-5.306076e-14</td>\n",
       "      <td>8.923236e-14</td>\n",
       "      <td>-6.964809e-14</td>\n",
       "    </tr>\n",
       "    <tr>\n",
       "      <th>4</th>\n",
       "      <td>-0.208425</td>\n",
       "      <td>-1.471116</td>\n",
       "      <td>0.135380</td>\n",
       "      <td>1.813074e-07</td>\n",
       "      <td>-6.555056e-11</td>\n",
       "      <td>-8.038222e-11</td>\n",
       "      <td>-4.169925e-11</td>\n",
       "      <td>-1.612435e-11</td>\n",
       "      <td>-0.004237</td>\n",
       "      <td>0.064427</td>\n",
       "      <td>...</td>\n",
       "      <td>1.052016e-14</td>\n",
       "      <td>2.581547e-15</td>\n",
       "      <td>-3.894146e-15</td>\n",
       "      <td>8.305541e-15</td>\n",
       "      <td>-4.542721e-15</td>\n",
       "      <td>-6.895659e-15</td>\n",
       "      <td>7.620730e-15</td>\n",
       "      <td>-1.153235e-14</td>\n",
       "      <td>8.215103e-15</td>\n",
       "      <td>-1.764940e-14</td>\n",
       "    </tr>\n",
       "    <tr>\n",
       "      <th>...</th>\n",
       "      <td>...</td>\n",
       "      <td>...</td>\n",
       "      <td>...</td>\n",
       "      <td>...</td>\n",
       "      <td>...</td>\n",
       "      <td>...</td>\n",
       "      <td>...</td>\n",
       "      <td>...</td>\n",
       "      <td>...</td>\n",
       "      <td>...</td>\n",
       "      <td>...</td>\n",
       "      <td>...</td>\n",
       "      <td>...</td>\n",
       "      <td>...</td>\n",
       "      <td>...</td>\n",
       "      <td>...</td>\n",
       "      <td>...</td>\n",
       "      <td>...</td>\n",
       "      <td>...</td>\n",
       "      <td>...</td>\n",
       "      <td>...</td>\n",
       "    </tr>\n",
       "    <tr>\n",
       "      <th>680</th>\n",
       "      <td>4.075540</td>\n",
       "      <td>-0.136391</td>\n",
       "      <td>-0.097843</td>\n",
       "      <td>-8.429474e-08</td>\n",
       "      <td>3.046883e-11</td>\n",
       "      <td>3.736366e-11</td>\n",
       "      <td>1.937802e-11</td>\n",
       "      <td>7.504004e-12</td>\n",
       "      <td>-1.094977</td>\n",
       "      <td>0.736512</td>\n",
       "      <td>...</td>\n",
       "      <td>9.148008e-15</td>\n",
       "      <td>1.692661e-15</td>\n",
       "      <td>-1.712052e-15</td>\n",
       "      <td>1.252864e-14</td>\n",
       "      <td>-1.113552e-15</td>\n",
       "      <td>-1.125639e-14</td>\n",
       "      <td>5.669020e-15</td>\n",
       "      <td>-1.294465e-14</td>\n",
       "      <td>6.401820e-15</td>\n",
       "      <td>-2.083926e-14</td>\n",
       "    </tr>\n",
       "    <tr>\n",
       "      <th>681</th>\n",
       "      <td>-0.226727</td>\n",
       "      <td>1.233266</td>\n",
       "      <td>-0.494647</td>\n",
       "      <td>-3.074212e-07</td>\n",
       "      <td>1.111362e-10</td>\n",
       "      <td>1.362829e-10</td>\n",
       "      <td>7.070164e-11</td>\n",
       "      <td>2.733205e-11</td>\n",
       "      <td>0.014996</td>\n",
       "      <td>-1.108865</td>\n",
       "      <td>...</td>\n",
       "      <td>7.070927e-13</td>\n",
       "      <td>2.668686e-13</td>\n",
       "      <td>-9.616974e-13</td>\n",
       "      <td>-1.053138e-12</td>\n",
       "      <td>-9.357201e-13</td>\n",
       "      <td>6.984478e-13</td>\n",
       "      <td>5.261288e-13</td>\n",
       "      <td>-1.514311e-13</td>\n",
       "      <td>9.225194e-14</td>\n",
       "      <td>4.785608e-13</td>\n",
       "    </tr>\n",
       "    <tr>\n",
       "      <th>682</th>\n",
       "      <td>-0.121196</td>\n",
       "      <td>-2.314110</td>\n",
       "      <td>0.284863</td>\n",
       "      <td>3.476582e-07</td>\n",
       "      <td>-1.256919e-10</td>\n",
       "      <td>-1.541337e-10</td>\n",
       "      <td>-7.995782e-11</td>\n",
       "      <td>-3.091899e-11</td>\n",
       "      <td>-0.001641</td>\n",
       "      <td>-0.011329</td>\n",
       "      <td>...</td>\n",
       "      <td>8.696864e-14</td>\n",
       "      <td>-4.834294e-15</td>\n",
       "      <td>-4.044754e-14</td>\n",
       "      <td>-3.307122e-15</td>\n",
       "      <td>1.075790e-14</td>\n",
       "      <td>-6.067193e-14</td>\n",
       "      <td>3.743597e-14</td>\n",
       "      <td>-4.919458e-14</td>\n",
       "      <td>-2.014012e-14</td>\n",
       "      <td>-8.304000e-14</td>\n",
       "    </tr>\n",
       "    <tr>\n",
       "      <th>683</th>\n",
       "      <td>-0.277782</td>\n",
       "      <td>-2.030379</td>\n",
       "      <td>0.262191</td>\n",
       "      <td>3.014883e-07</td>\n",
       "      <td>-1.089994e-10</td>\n",
       "      <td>-1.336618e-10</td>\n",
       "      <td>-6.933954e-11</td>\n",
       "      <td>-2.681192e-11</td>\n",
       "      <td>0.017138</td>\n",
       "      <td>0.161203</td>\n",
       "      <td>...</td>\n",
       "      <td>7.095046e-13</td>\n",
       "      <td>2.746166e-13</td>\n",
       "      <td>-9.679329e-13</td>\n",
       "      <td>-1.041085e-12</td>\n",
       "      <td>-9.423670e-13</td>\n",
       "      <td>7.003672e-13</td>\n",
       "      <td>5.265172e-13</td>\n",
       "      <td>-1.537897e-13</td>\n",
       "      <td>9.364549e-14</td>\n",
       "      <td>4.786320e-13</td>\n",
       "    </tr>\n",
       "    <tr>\n",
       "      <th>684</th>\n",
       "      <td>-0.089348</td>\n",
       "      <td>0.776902</td>\n",
       "      <td>-0.204001</td>\n",
       "      <td>-2.081479e-07</td>\n",
       "      <td>7.525272e-11</td>\n",
       "      <td>9.227970e-11</td>\n",
       "      <td>4.787242e-11</td>\n",
       "      <td>1.850998e-11</td>\n",
       "      <td>-0.019264</td>\n",
       "      <td>1.307668</td>\n",
       "      <td>...</td>\n",
       "      <td>7.092103e-13</td>\n",
       "      <td>2.685378e-13</td>\n",
       "      <td>-9.620340e-13</td>\n",
       "      <td>-1.049139e-12</td>\n",
       "      <td>-9.388713e-13</td>\n",
       "      <td>6.987498e-13</td>\n",
       "      <td>5.226864e-13</td>\n",
       "      <td>-1.524038e-13</td>\n",
       "      <td>9.523691e-14</td>\n",
       "      <td>4.775484e-13</td>\n",
       "    </tr>\n",
       "  </tbody>\n",
       "</table>\n",
       "<p>685 rows × 84 columns</p>\n",
       "</div>"
      ],
      "text/plain": [
       "           0         1         2             3             4             5   \\\n",
       "0   -0.226931  1.233286 -0.494639 -3.074213e-07  1.111361e-10  1.362828e-10   \n",
       "1   -0.212511  1.231877 -0.495250 -3.074213e-07  1.111362e-10  1.362830e-10   \n",
       "2   -0.156502  0.820326 -0.304937 -2.267268e-07  8.196615e-11  1.005135e-10   \n",
       "3    0.284201  1.971340 -0.537186 -4.518587e-07  1.633573e-10  2.003217e-10   \n",
       "4   -0.208425 -1.471116  0.135380  1.813074e-07 -6.555056e-11 -8.038222e-11   \n",
       "..        ...       ...       ...           ...           ...           ...   \n",
       "680  4.075540 -0.136391 -0.097843 -8.429474e-08  3.046883e-11  3.736366e-11   \n",
       "681 -0.226727  1.233266 -0.494647 -3.074212e-07  1.111362e-10  1.362829e-10   \n",
       "682 -0.121196 -2.314110  0.284863  3.476582e-07 -1.256919e-10 -1.541337e-10   \n",
       "683 -0.277782 -2.030379  0.262191  3.014883e-07 -1.089994e-10 -1.336618e-10   \n",
       "684 -0.089348  0.776902 -0.204001 -2.081479e-07  7.525272e-11  9.227970e-11   \n",
       "\n",
       "               6             7         8         9   ...            74  \\\n",
       "0    7.070153e-11  2.733220e-11  0.015015 -1.108822  ...  7.137502e-13   \n",
       "1    7.070161e-11  2.733194e-11  0.013635 -1.111887  ...  7.085855e-13   \n",
       "2    5.214347e-11  2.015943e-11 -0.001711 -0.625905  ...  1.086144e-14   \n",
       "3    1.039176e-10  4.018073e-11 -0.030183 -0.827578  ...  2.209442e-14   \n",
       "4   -4.169925e-11 -1.612435e-11 -0.004237  0.064427  ...  1.052016e-14   \n",
       "..            ...           ...       ...       ...  ...           ...   \n",
       "680  1.937802e-11  7.504004e-12 -1.094977  0.736512  ...  9.148008e-15   \n",
       "681  7.070164e-11  2.733205e-11  0.014996 -1.108865  ...  7.070927e-13   \n",
       "682 -7.995782e-11 -3.091899e-11 -0.001641 -0.011329  ...  8.696864e-14   \n",
       "683 -6.933954e-11 -2.681192e-11  0.017138  0.161203  ...  7.095046e-13   \n",
       "684  4.787242e-11  1.850998e-11 -0.019264  1.307668  ...  7.092103e-13   \n",
       "\n",
       "               75            76            77            78            79  \\\n",
       "0    2.666098e-13 -9.603436e-13 -1.051734e-12 -9.352316e-13  6.989830e-13   \n",
       "1    2.668530e-13 -9.616340e-13 -1.052818e-12 -9.356647e-13  6.981974e-13   \n",
       "2    2.218225e-15 -5.693527e-15  5.016119e-15 -2.141457e-15 -8.739871e-15   \n",
       "3    2.231145e-14  2.366920e-14  5.173284e-14 -4.281358e-14  3.538389e-14   \n",
       "4    2.581547e-15 -3.894146e-15  8.305541e-15 -4.542721e-15 -6.895659e-15   \n",
       "..            ...           ...           ...           ...           ...   \n",
       "680  1.692661e-15 -1.712052e-15  1.252864e-14 -1.113552e-15 -1.125639e-14   \n",
       "681  2.668686e-13 -9.616974e-13 -1.053138e-12 -9.357201e-13  6.984478e-13   \n",
       "682 -4.834294e-15 -4.044754e-14 -3.307122e-15  1.075790e-14 -6.067193e-14   \n",
       "683  2.746166e-13 -9.679329e-13 -1.041085e-12 -9.423670e-13  7.003672e-13   \n",
       "684  2.685378e-13 -9.620340e-13 -1.049139e-12 -9.388713e-13  6.987498e-13   \n",
       "\n",
       "               80            81            82            83  \n",
       "0    5.253028e-13 -1.517264e-13  9.090928e-14  4.786488e-13  \n",
       "1    5.262277e-13 -1.512583e-13  9.239834e-14  4.787359e-13  \n",
       "2    7.822825e-15 -1.055206e-14  5.375562e-15 -1.699440e-14  \n",
       "3    4.229595e-15 -5.306076e-14  8.923236e-14 -6.964809e-14  \n",
       "4    7.620730e-15 -1.153235e-14  8.215103e-15 -1.764940e-14  \n",
       "..            ...           ...           ...           ...  \n",
       "680  5.669020e-15 -1.294465e-14  6.401820e-15 -2.083926e-14  \n",
       "681  5.261288e-13 -1.514311e-13  9.225194e-14  4.785608e-13  \n",
       "682  3.743597e-14 -4.919458e-14 -2.014012e-14 -8.304000e-14  \n",
       "683  5.265172e-13 -1.537897e-13  9.364549e-14  4.786320e-13  \n",
       "684  5.226864e-13 -1.524038e-13  9.523691e-14  4.775484e-13  \n",
       "\n",
       "[685 rows x 84 columns]"
      ]
     },
     "metadata": {},
     "execution_count": 48
    }
   ],
   "metadata": {}
  },
  {
   "cell_type": "code",
   "execution_count": 49,
   "source": [
    "from sklearn.manifold import TSNE\r\n",
    "\r\n",
    "# Initialize t-SNE model\r\n",
    "tsne = TSNE(learning_rate=35)\r\n",
    "\r\n",
    "# Reduce dimensions\r\n",
    "tsne_features = tsne.fit_transform(crypto6_pca)"
   ],
   "outputs": [],
   "metadata": {}
  },
  {
   "cell_type": "code",
   "execution_count": 50,
   "source": [
    "tsne_features.shape"
   ],
   "outputs": [
    {
     "output_type": "execute_result",
     "data": {
      "text/plain": [
       "(685, 2)"
      ]
     },
     "metadata": {},
     "execution_count": 50
    }
   ],
   "metadata": {}
  },
  {
   "cell_type": "code",
   "execution_count": 55,
   "source": [
    "tsne_df = pd.DataFrame(tsne_features, columns=['x','y'])\r\n",
    "tsne_df"
   ],
   "outputs": [
    {
     "output_type": "execute_result",
     "data": {
      "text/html": [
       "<div>\n",
       "<style scoped>\n",
       "    .dataframe tbody tr th:only-of-type {\n",
       "        vertical-align: middle;\n",
       "    }\n",
       "\n",
       "    .dataframe tbody tr th {\n",
       "        vertical-align: top;\n",
       "    }\n",
       "\n",
       "    .dataframe thead th {\n",
       "        text-align: right;\n",
       "    }\n",
       "</style>\n",
       "<table border=\"1\" class=\"dataframe\">\n",
       "  <thead>\n",
       "    <tr style=\"text-align: right;\">\n",
       "      <th></th>\n",
       "      <th>x</th>\n",
       "      <th>y</th>\n",
       "    </tr>\n",
       "  </thead>\n",
       "  <tbody>\n",
       "    <tr>\n",
       "      <th>0</th>\n",
       "      <td>-1.727164</td>\n",
       "      <td>16.412979</td>\n",
       "    </tr>\n",
       "    <tr>\n",
       "      <th>1</th>\n",
       "      <td>0.592340</td>\n",
       "      <td>21.650257</td>\n",
       "    </tr>\n",
       "    <tr>\n",
       "      <th>2</th>\n",
       "      <td>-3.068304</td>\n",
       "      <td>-23.802185</td>\n",
       "    </tr>\n",
       "    <tr>\n",
       "      <th>3</th>\n",
       "      <td>-14.831528</td>\n",
       "      <td>27.882458</td>\n",
       "    </tr>\n",
       "    <tr>\n",
       "      <th>4</th>\n",
       "      <td>-4.553384</td>\n",
       "      <td>-30.643700</td>\n",
       "    </tr>\n",
       "    <tr>\n",
       "      <th>...</th>\n",
       "      <td>...</td>\n",
       "      <td>...</td>\n",
       "    </tr>\n",
       "    <tr>\n",
       "      <th>680</th>\n",
       "      <td>4.473267</td>\n",
       "      <td>-10.836740</td>\n",
       "    </tr>\n",
       "    <tr>\n",
       "      <th>681</th>\n",
       "      <td>4.806945</td>\n",
       "      <td>17.119152</td>\n",
       "    </tr>\n",
       "    <tr>\n",
       "      <th>682</th>\n",
       "      <td>33.179016</td>\n",
       "      <td>-0.425352</td>\n",
       "    </tr>\n",
       "    <tr>\n",
       "      <th>683</th>\n",
       "      <td>14.125432</td>\n",
       "      <td>-18.037123</td>\n",
       "    </tr>\n",
       "    <tr>\n",
       "      <th>684</th>\n",
       "      <td>-11.431890</td>\n",
       "      <td>-3.941761</td>\n",
       "    </tr>\n",
       "  </tbody>\n",
       "</table>\n",
       "<p>685 rows × 2 columns</p>\n",
       "</div>"
      ],
      "text/plain": [
       "             x          y\n",
       "0    -1.727164  16.412979\n",
       "1     0.592340  21.650257\n",
       "2    -3.068304 -23.802185\n",
       "3   -14.831528  27.882458\n",
       "4    -4.553384 -30.643700\n",
       "..         ...        ...\n",
       "680   4.473267 -10.836740\n",
       "681   4.806945  17.119152\n",
       "682  33.179016  -0.425352\n",
       "683  14.125432 -18.037123\n",
       "684 -11.431890  -3.941761\n",
       "\n",
       "[685 rows x 2 columns]"
      ]
     },
     "metadata": {},
     "execution_count": 55
    }
   ],
   "metadata": {}
  },
  {
   "cell_type": "code",
   "execution_count": 56,
   "source": [
    "import matplotlib.pyplot as plt\r\n",
    "plt.scatter(tsne_df['x'], tsne_df['y'])\r\n",
    "plt.show()"
   ],
   "outputs": [
    {
     "output_type": "display_data",
     "data": {
      "image/png": "[encoded data removed]",
      "text/plain": [
       "<Figure size 432x288 with 1 Axes>"
      ]
     },
     "metadata": {
      "needs_background": "light"
     }
    }
   ],
   "metadata": {}
  },
  {
   "cell_type": "code",
   "execution_count": 57,
   "source": [
    "import numpy as np\r\n",
    "from sklearn.cluster import KMeans\r\n",
    "\r\n",
    "inertia = []\r\n",
    "# Same as k = list(range(1, 11))\r\n",
    "k = [1,2,3,4,5,6,7,8,9,10]\r\n",
    "\r\n",
    "# Looking for the best k\r\n",
    "for i in k:\r\n",
    "    km = KMeans(n_clusters=i, random_state=0)\r\n",
    "    km.fit(tsne_df)\r\n",
    "    inertia.append(km.inertia_)\r\n",
    "\r\n",
    "# Define a DataFrame to plot the Elbow Curve using hvPlot\r\n",
    "elbow_data = {\"k\": k, \"inertia\": inertia}\r\n",
    "df_elbow = pd.DataFrame(elbow_data)\r\n",
    "\r\n",
    "plt.plot(df_elbow['k'], df_elbow['inertia'])\r\n",
    "plt.xticks(range(1,11))\r\n",
    "plt.xlabel('Number of clusters')\r\n",
    "plt.ylabel('Inertia')\r\n",
    "plt.show()"
   ],
   "outputs": [
    {
     "output_type": "stream",
     "name": "stderr",
     "text": [
      "C:\\Users\\GPSchool\\Anaconda3\\envs\\PythonData\\lib\\site-packages\\sklearn\\cluster\\_kmeans.py:882: UserWarning: KMeans is known to have a memory leak on Windows with MKL, when there are less chunks than available threads. You can avoid it by setting the environment variable OMP_NUM_THREADS=3.\n",
      "  f\"KMeans is known to have a memory leak on Windows \"\n"
     ]
    },
    {
     "output_type": "display_data",
     "data": {
      "image/png": "[encoded data removed]",
      "text/plain": [
       "<Figure size 432x288 with 1 Axes>"
      ]
     },
     "metadata": {
      "needs_background": "light"
     }
    }
   ],
   "metadata": {}
  }
 ],
 "metadata": {
  "orig_nbformat": 4,
  "language_info": {
   "name": "python",
   "version": "3.6.10",
   "mimetype": "text/x-python",
   "codemirror_mode": {
    "name": "ipython",
    "version": 3
   },
   "pygments_lexer": "ipython3",
   "nbconvert_exporter": "python",
   "file_extension": ".py"
  },
  "kernelspec": {
   "name": "python3",
   "display_name": "Python 3.6.10 64-bit ('PythonData': conda)"
  },
  "interpreter": {
   "hash": "2f3a706b34eb0ea9bbb028628723f5cd93895146db5a4b3f252e9288b7f6741a"
  }
 },
 "nbformat": 4,
 "nbformat_minor": 2
}