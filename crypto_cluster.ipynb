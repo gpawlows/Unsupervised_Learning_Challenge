{
 "cells": [
  {
   "cell_type": "code",
   "execution_count": 1,
   "source": [
    "# Initial imports\r\n",
    "import pandas as pd\r\n",
    "from pathlib import Path"
   ],
   "outputs": [],
   "metadata": {}
  },
  {
   "cell_type": "code",
   "execution_count": 4,
   "source": [
    "#Data Loading\r\n",
    "file_path = Path(\"crypto_data.csv\")\r\n",
    "df_crypto = pd.read_csv(file_path)\r\n",
    "df_crypto.head()\r\n",
    "df_crypto.shape"
   ],
   "outputs": [
    {
     "output_type": "execute_result",
     "data": {
      "text/plain": [
       "(1252, 7)"
      ]
     },
     "metadata": {},
     "execution_count": 4
    }
   ],
   "metadata": {}
  }
 ],
 "metadata": {
  "orig_nbformat": 4,
  "language_info": {
   "name": "python",
   "version": "3.6.10",
   "mimetype": "text/x-python",
   "codemirror_mode": {
    "name": "ipython",
    "version": 3
   },
   "pygments_lexer": "ipython3",
   "nbconvert_exporter": "python",
   "file_extension": ".py"
  },
  "kernelspec": {
   "name": "python3",
   "display_name": "Python 3.6.10 64-bit ('PythonData': conda)"
  },
  "interpreter": {
   "hash": "2f3a706b34eb0ea9bbb028628723f5cd93895146db5a4b3f252e9288b7f6741a"
  }
 },
 "nbformat": 4,
 "nbformat_minor": 2
}